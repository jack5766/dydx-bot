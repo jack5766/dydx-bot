{
 "cells": [
  {
   "cell_type": "code",
   "execution_count": 12,
   "metadata": {},
   "outputs": [],
   "source": [
    "#imports\n",
    "\n",
    "from dydx3 import Client\n",
    "from web3 import Web3\n",
    "from pprint import pprint\n",
    "from datetime import datetime, timedelta\n",
    "\n",
    "#pour testnet Sepolia\n",
    "from dydx3.constants import API_HOST_SEPOLIA"
   ]
  },
  {
   "cell_type": "code",
   "execution_count": 13,
   "metadata": {},
   "outputs": [],
   "source": [
    "#constantes \n",
    "ETHEREUM_ADDRESS = \"0x6A21ef1F2cA8098513b251371BE3c57dF5BA3620\"\n",
    "ETH_PRIVATE_KEY = \"0xf9d43e0b37bf0ceaa4161af73e4a177c5fc896ba932fe2515e7ee4f90bdabd27\" #voir dans Rabby\n",
    "\n",
    "STARK_PRIVATE_KEY = \"02cb11ef537fdafa049b2fee4ed14b432ad64bde0c5873358c76750b3b49dbb7\" #STARK_KEY_PAIRS -> privateKey\n",
    "DYDX_API_KEY = \"846e524b-e4c0-287a-6c95-73e4c43fb99c\" #API_KEY_PAIRS -> key\n",
    "DYDX_API_SECRET = \"aOYvWibsMgiJuK5UKRU8gtRBLziGKqBTbz_aB8dH\" #API_KEY_PAIRS -> secret\n",
    "DYDX_API_PASSPHRASE = \"7pZYhRa48YrLzy8xg6Zi\" #API_KEY_PAIRS -> passphrase\n",
    "HOST = API_HOST_SEPOLIA\n",
    "\n",
    "#HTTP Provider\n",
    "HTTP_PROVIDER = \"https://eth-sepolia.g.alchemy.com/v2/E8773eNgohTkeUi2fdOpSYPXGYvBwR4F\" #voir dans Alchemy.com -> Apps -> API Key -> HTTP"
   ]
  },
  {
   "cell_type": "code",
   "execution_count": 14,
   "metadata": {},
   "outputs": [],
   "source": [
    "#connexion client\n",
    "client = Client (\n",
    "    host = HOST,\n",
    "    api_key_credentials = {\n",
    "        \"key\": DYDX_API_KEY,\n",
    "        \"secret\": DYDX_API_SECRET,\n",
    "        \"passphrase\": DYDX_API_PASSPHRASE,\n",
    "    },\n",
    "    stark_private_key = STARK_PRIVATE_KEY,\n",
    "    eth_private_key = ETH_PRIVATE_KEY,\n",
    "    default_ethereum_address = ETHEREUM_ADDRESS,\n",
    "    web3 = Web3(Web3.HTTPProvider(HTTP_PROVIDER))    \n",
    ")"
   ]
  },
  {
   "cell_type": "code",
   "execution_count": 15,
   "metadata": {},
   "outputs": [
    {
     "name": "stdout",
     "output_type": "stream",
     "text": [
      "Connexion réussie\n",
      "Compte: b29854d5-9997-578d-a49c-05d721a5dfed\n",
      "Solde compte 1999.484595\n"
     ]
    }
   ],
   "source": [
    "#test de la connexion\n",
    "account = client.private.get_account()\n",
    "account_id = account.data[\"account\"][\"id\"]\n",
    "quote_balance = account.data[\"account\"][\"quoteBalance\"]\n",
    "print(\"Connexion réussie\")\n",
    "print(f\"Compte: {account_id}\")\n",
    "print(f\"Solde compte {quote_balance}\")"
   ]
  },
  {
   "cell_type": "code",
   "execution_count": 32,
   "metadata": {},
   "outputs": [
    {
     "name": "stdout",
     "output_type": "stream",
     "text": [
      "{'baseTokenVolume': '348.297',\n",
      " 'close': '2252.9',\n",
      " 'high': '2276.9',\n",
      " 'low': '2250.3',\n",
      " 'market': 'ETH-USD',\n",
      " 'open': '2256.4',\n",
      " 'resolution': '1DAY',\n",
      " 'startedAt': '2024-01-29T00:00:00.000Z',\n",
      " 'startingOpenInterest': '1109.469',\n",
      " 'trades': '151',\n",
      " 'updatedAt': '2024-01-29T13:12:32.553Z',\n",
      " 'usdVolume': '788820.647'}\n"
     ]
    }
   ],
   "source": [
    "#Prix Ouverture PlusHaut PlusBas Fermeture\n",
    "candles = client.public.get_candles(\n",
    "    market = \"ETH-USD\",\n",
    "    resolution = \"1DAY\",\n",
    "    limit = 3\n",
    ")\n",
    "pprint(candles.data[\"candles\"][0])"
   ]
  }
 ],
 "metadata": {
  "kernelspec": {
   "display_name": "Python 3",
   "language": "python",
   "name": "python3"
  },
  "language_info": {
   "codemirror_mode": {
    "name": "ipython",
    "version": 3
   },
   "file_extension": ".py",
   "mimetype": "text/x-python",
   "name": "python",
   "nbconvert_exporter": "python",
   "pygments_lexer": "ipython3",
   "version": "3.10.13"
  }
 },
 "nbformat": 4,
 "nbformat_minor": 2
}
